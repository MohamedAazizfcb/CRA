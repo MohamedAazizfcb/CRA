{
  "nbformat": 4,
  "nbformat_minor": 0,
  "metadata": {
    "colab": {
      "name": "parallelWavGAN-demo.ipynb",
      "provenance": [],
      "collapsed_sections": [],
      "toc_visible": true
    },
    "kernelspec": {
      "name": "python3",
      "display_name": "Python 3"
    },
    "accelerator": "GPU"
  },
  "cells": [
    {
      "cell_type": "code",
      "metadata": {
        "id": "dEUBwdPXfPGf",
        "colab_type": "code",
        "outputId": "fa34de9e-a568-4b69-e337-9f586fa173f4",
        "colab": {
          "base_uri": "https://localhost:8080/",
          "height": 136
        }
      },
      "source": [
        "!git clone https://github.com/kan-bayashi/ParallelWaveGAN.git"
      ],
      "execution_count": 0,
      "outputs": [
        {
          "output_type": "stream",
          "text": [
            "Cloning into 'ParallelWaveGAN'...\n",
            "remote: Enumerating objects: 141, done.\u001b[K\n",
            "remote: Counting objects: 100% (141/141), done.\u001b[K\n",
            "remote: Compressing objects: 100% (97/97), done.\u001b[K\n",
            "remote: Total 3702 (delta 46), reused 81 (delta 21), pack-reused 3561\u001b[K\n",
            "Receiving objects: 100% (3702/3702), 23.95 MiB | 27.65 MiB/s, done.\n",
            "Resolving deltas: 100% (2007/2007), done.\n"
          ],
          "name": "stdout"
        }
      ]
    },
    {
      "cell_type": "code",
      "metadata": {
        "id": "7C8xr7aRfsBr",
        "colab_type": "code",
        "outputId": "0860883b-af9a-4b58-9cd3-92d66e8737ef",
        "colab": {
          "base_uri": "https://localhost:8080/",
          "height": 51
        }
      },
      "source": [
        "cd ParallelWaveGAN"
      ],
      "execution_count": 0,
      "outputs": [
        {
          "output_type": "stream",
          "text": [
            "[Errno 2] No such file or directory: 'ParallelWaveGAN'\n",
            "/content/ParallelWaveGAN\n"
          ],
          "name": "stdout"
        }
      ]
    },
    {
      "cell_type": "code",
      "metadata": {
        "id": "Pxf9O9p0fxSZ",
        "colab_type": "code",
        "outputId": "101650e6-55b2-47eb-fc77-0c0a2ec38961",
        "colab": {
          "base_uri": "https://localhost:8080/",
          "height": 1000
        }
      },
      "source": [
        "!pip install -e ."
      ],
      "execution_count": 0,
      "outputs": [
        {
          "output_type": "stream",
          "text": [
            "Obtaining file:///content/ParallelWaveGAN\n",
            "Requirement already satisfied: torch>=1.0.1 in /usr/local/lib/python3.6/dist-packages (from parallel-wavegan==0.3.5) (1.5.0+cu101)\n",
            "Requirement already satisfied: setuptools>=38.5.1 in /usr/local/lib/python3.6/dist-packages (from parallel-wavegan==0.3.5) (46.1.3)\n",
            "Collecting librosa>=0.7.0\n",
            "\u001b[?25l  Downloading https://files.pythonhosted.org/packages/77/b5/1817862d64a7c231afd15419d8418ae1f000742cac275e85c74b219cbccb/librosa-0.7.2.tar.gz (1.6MB)\n",
            "\u001b[K     |████████████████████████████████| 1.6MB 3.4MB/s \n",
            "\u001b[?25hCollecting soundfile>=0.10.2\n",
            "  Downloading https://files.pythonhosted.org/packages/eb/f2/3cbbbf3b96fb9fa91582c438b574cff3f45b29c772f94c400e2c99ef5db9/SoundFile-0.10.3.post1-py2.py3-none-any.whl\n",
            "Collecting tensorboardX>=1.8\n",
            "\u001b[?25l  Downloading https://files.pythonhosted.org/packages/35/f1/5843425495765c8c2dd0784a851a93ef204d314fc87bcc2bbb9f662a3ad1/tensorboardX-2.0-py2.py3-none-any.whl (195kB)\n",
            "\u001b[K     |████████████████████████████████| 204kB 22.2MB/s \n",
            "\u001b[?25hRequirement already satisfied: matplotlib>=3.1.0 in /usr/local/lib/python3.6/dist-packages (from parallel-wavegan==0.3.5) (3.2.1)\n",
            "Requirement already satisfied: PyYAML>=3.12 in /usr/local/lib/python3.6/dist-packages (from parallel-wavegan==0.3.5) (3.13)\n",
            "Requirement already satisfied: tqdm>=4.26.1 in /usr/local/lib/python3.6/dist-packages (from parallel-wavegan==0.3.5) (4.41.1)\n",
            "Collecting kaldiio>=2.14.1\n",
            "  Downloading https://files.pythonhosted.org/packages/b7/fd/0415c4d37b7a6b4d0f09fbfb4c507cd949f0817851309aa977e3c384923a/kaldiio-2.15.1.tar.gz\n",
            "Requirement already satisfied: h5py>=2.10.0 in /usr/local/lib/python3.6/dist-packages (from parallel-wavegan==0.3.5) (2.10.0)\n",
            "Collecting yq>=2.10.0\n",
            "  Downloading https://files.pythonhosted.org/packages/c3/68/8994d78dcbb92cbfb70800bb6873f2694705516f4ae14ff08c05111fefeb/yq-2.10.0-py2.py3-none-any.whl\n",
            "Requirement already satisfied: numpy in /usr/local/lib/python3.6/dist-packages (from torch>=1.0.1->parallel-wavegan==0.3.5) (1.18.4)\n",
            "Requirement already satisfied: future in /usr/local/lib/python3.6/dist-packages (from torch>=1.0.1->parallel-wavegan==0.3.5) (0.16.0)\n",
            "Requirement already satisfied: audioread>=2.0.0 in /usr/local/lib/python3.6/dist-packages (from librosa>=0.7.0->parallel-wavegan==0.3.5) (2.1.8)\n",
            "Requirement already satisfied: scipy>=1.0.0 in /usr/local/lib/python3.6/dist-packages (from librosa>=0.7.0->parallel-wavegan==0.3.5) (1.4.1)\n",
            "Requirement already satisfied: scikit-learn!=0.19.0,>=0.14.0 in /usr/local/lib/python3.6/dist-packages (from librosa>=0.7.0->parallel-wavegan==0.3.5) (0.22.2.post1)\n",
            "Requirement already satisfied: joblib>=0.12 in /usr/local/lib/python3.6/dist-packages (from librosa>=0.7.0->parallel-wavegan==0.3.5) (0.14.1)\n",
            "Requirement already satisfied: decorator>=3.0.0 in /usr/local/lib/python3.6/dist-packages (from librosa>=0.7.0->parallel-wavegan==0.3.5) (4.4.2)\n",
            "Requirement already satisfied: six>=1.3 in /usr/local/lib/python3.6/dist-packages (from librosa>=0.7.0->parallel-wavegan==0.3.5) (1.12.0)\n",
            "Requirement already satisfied: resampy>=0.2.2 in /usr/local/lib/python3.6/dist-packages (from librosa>=0.7.0->parallel-wavegan==0.3.5) (0.2.2)\n",
            "Requirement already satisfied: numba>=0.43.0 in /usr/local/lib/python3.6/dist-packages (from librosa>=0.7.0->parallel-wavegan==0.3.5) (0.48.0)\n",
            "Requirement already satisfied: cffi>=1.0 in /usr/local/lib/python3.6/dist-packages (from soundfile>=0.10.2->parallel-wavegan==0.3.5) (1.14.0)\n",
            "Requirement already satisfied: protobuf>=3.8.0 in /usr/local/lib/python3.6/dist-packages (from tensorboardX>=1.8->parallel-wavegan==0.3.5) (3.10.0)\n",
            "Requirement already satisfied: cycler>=0.10 in /usr/local/lib/python3.6/dist-packages (from matplotlib>=3.1.0->parallel-wavegan==0.3.5) (0.10.0)\n",
            "Requirement already satisfied: pyparsing!=2.0.4,!=2.1.2,!=2.1.6,>=2.0.1 in /usr/local/lib/python3.6/dist-packages (from matplotlib>=3.1.0->parallel-wavegan==0.3.5) (2.4.7)\n",
            "Requirement already satisfied: kiwisolver>=1.0.1 in /usr/local/lib/python3.6/dist-packages (from matplotlib>=3.1.0->parallel-wavegan==0.3.5) (1.2.0)\n",
            "Requirement already satisfied: python-dateutil>=2.1 in /usr/local/lib/python3.6/dist-packages (from matplotlib>=3.1.0->parallel-wavegan==0.3.5) (2.8.1)\n",
            "Collecting argcomplete>=1.8.1\n",
            "  Downloading https://files.pythonhosted.org/packages/82/7d/455e149c28c320044cb763c23af375bd77d52baca041f611f5c2b4865cf4/argcomplete-1.11.1-py2.py3-none-any.whl\n",
            "Collecting xmltodict>=0.11.0\n",
            "  Downloading https://files.pythonhosted.org/packages/28/fd/30d5c1d3ac29ce229f6bdc40bbc20b28f716e8b363140c26eff19122d8a5/xmltodict-0.12.0-py2.py3-none-any.whl\n",
            "Requirement already satisfied: llvmlite<0.32.0,>=0.31.0dev0 in /usr/local/lib/python3.6/dist-packages (from numba>=0.43.0->librosa>=0.7.0->parallel-wavegan==0.3.5) (0.31.0)\n",
            "Requirement already satisfied: pycparser in /usr/local/lib/python3.6/dist-packages (from cffi>=1.0->soundfile>=0.10.2->parallel-wavegan==0.3.5) (2.20)\n",
            "Requirement already satisfied: importlib-metadata<2,>=0.23; python_version == \"3.6\" in /usr/local/lib/python3.6/dist-packages (from argcomplete>=1.8.1->yq>=2.10.0->parallel-wavegan==0.3.5) (1.6.0)\n",
            "Requirement already satisfied: zipp>=0.5 in /usr/local/lib/python3.6/dist-packages (from importlib-metadata<2,>=0.23; python_version == \"3.6\"->argcomplete>=1.8.1->yq>=2.10.0->parallel-wavegan==0.3.5) (3.1.0)\n",
            "Building wheels for collected packages: librosa, kaldiio\n",
            "  Building wheel for librosa (setup.py) ... \u001b[?25l\u001b[?25hdone\n",
            "  Created wheel for librosa: filename=librosa-0.7.2-cp36-none-any.whl size=1612885 sha256=7ec60077ef77085dbac6abec8ab862436ff1247e79420a0dbf456a16c21e2fa1\n",
            "  Stored in directory: /root/.cache/pip/wheels/4c/6e/d7/bb93911540d2d1e44d690a1561871e5b6af82b69e80938abef\n",
            "  Building wheel for kaldiio (setup.py) ... \u001b[?25l\u001b[?25hdone\n",
            "  Created wheel for kaldiio: filename=kaldiio-2.15.1-cp36-none-any.whl size=22620 sha256=d833ce2bc29c260557bff59065551296bfb66ce25223c867c9304b2b4dbb9fb7\n",
            "  Stored in directory: /root/.cache/pip/wheels/8a/c8/1d/a7cefe1a964c3491603fa93c4d53f25c6612636bb29feec517\n",
            "Successfully built librosa kaldiio\n",
            "Installing collected packages: soundfile, librosa, tensorboardX, kaldiio, argcomplete, xmltodict, yq, parallel-wavegan\n",
            "  Found existing installation: librosa 0.6.3\n",
            "    Uninstalling librosa-0.6.3:\n",
            "      Successfully uninstalled librosa-0.6.3\n",
            "  Running setup.py develop for parallel-wavegan\n",
            "Successfully installed argcomplete-1.11.1 kaldiio-2.15.1 librosa-0.7.2 parallel-wavegan soundfile-0.10.3.post1 tensorboardX-2.0 xmltodict-0.12.0 yq-2.10.0\n"
          ],
          "name": "stdout"
        }
      ]
    },
    {
      "cell_type": "code",
      "metadata": {
        "id": "bIDeBw9hf0F-",
        "colab_type": "code",
        "outputId": "b566d693-6295-4d3d-eb21-5b8284b06841",
        "colab": {
          "base_uri": "https://localhost:8080/",
          "height": 34
        }
      },
      "source": [
        "cd egs/ljspeech/voc1"
      ],
      "execution_count": 0,
      "outputs": [
        {
          "output_type": "stream",
          "text": [
            "/content/ParallelWaveGAN/egs/ljspeech/voc1\n"
          ],
          "name": "stdout"
        }
      ]
    },
    {
      "cell_type": "code",
      "metadata": {
        "id": "xaGpZNPDgC99",
        "colab_type": "code",
        "outputId": "c2aec233-0ba3-4f44-e6ef-c680a1c13cb4",
        "colab": {
          "base_uri": "https://localhost:8080/",
          "height": 683
        }
      },
      "source": [
        "!sudo apt-get install jq"
      ],
      "execution_count": 0,
      "outputs": [
        {
          "output_type": "stream",
          "text": [
            "Reading package lists... Done\n",
            "Building dependency tree       \n",
            "Reading state information... Done\n",
            "The following additional packages will be installed:\n",
            "  libjq1 libonig4\n",
            "The following NEW packages will be installed:\n",
            "  jq libjq1 libonig4\n",
            "0 upgraded, 3 newly installed, 0 to remove and 29 not upgraded.\n",
            "Need to get 276 kB of archives.\n",
            "After this operation, 930 kB of additional disk space will be used.\n",
            "Get:1 http://archive.ubuntu.com/ubuntu bionic/universe amd64 libonig4 amd64 6.7.0-1 [119 kB]\n",
            "Get:2 http://archive.ubuntu.com/ubuntu bionic/universe amd64 libjq1 amd64 1.5+dfsg-2 [111 kB]\n",
            "Get:3 http://archive.ubuntu.com/ubuntu bionic/universe amd64 jq amd64 1.5+dfsg-2 [45.6 kB]\n",
            "Fetched 276 kB in 1s (362 kB/s)\n",
            "debconf: unable to initialize frontend: Dialog\n",
            "debconf: (No usable dialog-like program is installed, so the dialog based frontend cannot be used. at /usr/share/perl5/Debconf/FrontEnd/Dialog.pm line 76, <> line 3.)\n",
            "debconf: falling back to frontend: Readline\n",
            "debconf: unable to initialize frontend: Readline\n",
            "debconf: (This frontend requires a controlling tty.)\n",
            "debconf: falling back to frontend: Teletype\n",
            "dpkg-preconfigure: unable to re-open stdin: \n",
            "Selecting previously unselected package libonig4:amd64.\n",
            "(Reading database ... 144429 files and directories currently installed.)\n",
            "Preparing to unpack .../libonig4_6.7.0-1_amd64.deb ...\n",
            "Unpacking libonig4:amd64 (6.7.0-1) ...\n",
            "Selecting previously unselected package libjq1:amd64.\n",
            "Preparing to unpack .../libjq1_1.5+dfsg-2_amd64.deb ...\n",
            "Unpacking libjq1:amd64 (1.5+dfsg-2) ...\n",
            "Selecting previously unselected package jq.\n",
            "Preparing to unpack .../jq_1.5+dfsg-2_amd64.deb ...\n",
            "Unpacking jq (1.5+dfsg-2) ...\n",
            "Setting up libonig4:amd64 (6.7.0-1) ...\n",
            "Setting up libjq1:amd64 (1.5+dfsg-2) ...\n",
            "Setting up jq (1.5+dfsg-2) ...\n",
            "Processing triggers for man-db (2.8.3-2ubuntu0.1) ...\n",
            "Processing triggers for libc-bin (2.27-3ubuntu1) ...\n",
            "/sbin/ldconfig.real: /usr/local/lib/python3.6/dist-packages/ideep4py/lib/libmkldnn.so.0 is not a symbolic link\n",
            "\n"
          ],
          "name": "stdout"
        }
      ]
    },
    {
      "cell_type": "code",
      "metadata": {
        "id": "FM5dREvHkSA9",
        "colab_type": "code",
        "outputId": "c7152825-2738-4300-960f-32de1091c7fa",
        "colab": {
          "base_uri": "https://localhost:8080/",
          "height": 54
        }
      },
      "source": [
        "from google.colab import drive\n",
        "drive.mount('/content/drive')"
      ],
      "execution_count": 0,
      "outputs": [
        {
          "output_type": "stream",
          "text": [
            "Drive already mounted at /content/drive; to attempt to forcibly remount, call drive.mount(\"/content/drive\", force_remount=True).\n"
          ],
          "name": "stdout"
        }
      ]
    },
    {
      "cell_type": "code",
      "metadata": {
        "id": "4LAJQ7RIyYBW",
        "colab_type": "code",
        "colab": {}
      },
      "source": [
        "mkdir downloads/"
      ],
      "execution_count": 0,
      "outputs": []
    },
    {
      "cell_type": "code",
      "metadata": {
        "id": "Flw8FPBUyf5S",
        "colab_type": "code",
        "outputId": "6371e7bb-6bd8-4a27-f657-e88bab23015b",
        "colab": {
          "base_uri": "https://localhost:8080/",
          "height": 34
        }
      },
      "source": [
        "cd downloads/"
      ],
      "execution_count": 0,
      "outputs": [
        {
          "output_type": "stream",
          "text": [
            "/content/ParallelWaveGAN/egs/ljspeech/voc1/downloads/downloads\n"
          ],
          "name": "stdout"
        }
      ]
    },
    {
      "cell_type": "code",
      "metadata": {
        "id": "1jRo83cCl-mh",
        "colab_type": "code",
        "colab": {}
      },
      "source": [
        "!tar -xjf \"/content/drive/My Drive/LJSpeech-1.1.tar.bz2\""
      ],
      "execution_count": 0,
      "outputs": []
    },
    {
      "cell_type": "code",
      "metadata": {
        "id": "ie9o8xWH0Az7",
        "colab_type": "code",
        "outputId": "2834576f-45c6-4d60-ccbc-4183800b20d6",
        "colab": {
          "base_uri": "https://localhost:8080/",
          "height": 34
        }
      },
      "source": [
        "cd ../"
      ],
      "execution_count": 0,
      "outputs": [
        {
          "output_type": "stream",
          "text": [
            "/content/ParallelWaveGAN/egs/ljspeech/voc1\n"
          ],
          "name": "stdout"
        }
      ]
    },
    {
      "cell_type": "code",
      "metadata": {
        "id": "A2rfb8g9f8x4",
        "colab_type": "code",
        "outputId": "7aa77183-b150-4882-d5b5-83f4b6db2921",
        "colab": {
          "base_uri": "https://localhost:8080/",
          "height": 442
        }
      },
      "source": [
        "!./run.sh --stage 0 --stop_stage 1"
      ],
      "execution_count": 0,
      "outputs": [
        {
          "output_type": "stream",
          "text": [
            "Stage 0: Data preparation\n",
            "Successfully split data directory.\n",
            "Successfully split data directory.\n",
            "Successfully prepared data.\n",
            "Stage 1: Feature extraction\n",
            "Feature extraction start. See the progress via dump/train_nodev/raw/preprocessing.*.log.\n",
            "Feature extraction start. See the progress via dump/dev/raw/preprocessing.*.log.\n",
            "Feature extraction start. See the progress via dump/eval/raw/preprocessing.*.log.\n",
            "Successfully make subsets.\n",
            "Successfully make subsets.\n",
            "Successfully make subsets.\n",
            "Successfully finished feature extraction of dev set.\n",
            "Successfully finished feature extraction of eval set.\n",
            "Successfully finished feature extraction of train_nodev set.\n",
            "Successfully finished feature extraction.\n",
            "Statistics computation start. See the progress via dump/train_nodev/compute_statistics.log.\n",
            "Successfully finished calculation of statistics.\n",
            "Nomalization start. See the progress via dump/train_nodev/norm/normalize.*.log.\n",
            "Nomalization start. See the progress via dump/eval/norm/normalize.*.log.\n",
            "Nomalization start. See the progress via dump/dev/norm/normalize.*.log.\n",
            "Successfully finished normalization of eval set.\n",
            "Successfully finished normalization of dev set.\n",
            "Successfully finished normalization of train_nodev set.\n",
            "Successfully finished normalization.\n",
            "Finished.\n"
          ],
          "name": "stdout"
        }
      ]
    },
    {
      "cell_type": "code",
      "metadata": {
        "id": "d2j3jL_E3KqG",
        "colab_type": "code",
        "colab": {}
      },
      "source": [
        "mkdir exp"
      ],
      "execution_count": 0,
      "outputs": []
    },
    {
      "cell_type": "code",
      "metadata": {
        "id": "xvzqIb5V3gjy",
        "colab_type": "code",
        "outputId": "7e9952e5-7ffc-4cef-be9b-e5b512a219aa",
        "colab": {
          "base_uri": "https://localhost:8080/",
          "height": 34
        }
      },
      "source": [
        "cd exp"
      ],
      "execution_count": 0,
      "outputs": [
        {
          "output_type": "stream",
          "text": [
            "/content/ParallelWaveGAN/egs/ljspeech/voc1/exp\n"
          ],
          "name": "stdout"
        }
      ]
    },
    {
      "cell_type": "code",
      "metadata": {
        "id": "fqxA6x1b3Qj0",
        "colab_type": "code",
        "colab": {}
      },
      "source": [
        "mkdir train_nodev_ljspeech_parallel_wavegan.v1"
      ],
      "execution_count": 0,
      "outputs": []
    },
    {
      "cell_type": "code",
      "metadata": {
        "id": "OKoejreVgHAu",
        "colab_type": "code",
        "outputId": "b0e7d458-92a1-4270-d06f-f27d5a223403",
        "colab": {
          "base_uri": "https://localhost:8080/",
          "height": 158
        }
      },
      "source": [
        "!./run.sh --stage 3 --stop_stage 3"
      ],
      "execution_count": 0,
      "outputs": [
        {
          "output_type": "stream",
          "text": [
            "Stage 3: Network decoding\n",
            "Decoding start. See the progress via exp/train_nodev_ljspeech_parallel_wavegan.v1/wav/checkpoint-200steps/dev/decode.log.\n",
            "Decoding start. See the progress via exp/train_nodev_ljspeech_parallel_wavegan.v1/wav/checkpoint-200steps/eval/decode.log.\n",
            "Successfully finished decoding of eval set.\n",
            "Successfully finished decoding of dev set.\n",
            "Successfully finished decoding.\n",
            "Finished.\n"
          ],
          "name": "stdout"
        }
      ]
    },
    {
      "cell_type": "code",
      "metadata": {
        "id": "j3-568ULoHbk",
        "colab_type": "code",
        "colab": {}
      },
      "source": [
        "!rm -d -r \"/content/ParallelWaveGAN/egs/ljspeech/voc1/LJSpeech-1.1\""
      ],
      "execution_count": 0,
      "outputs": []
    },
    {
      "cell_type": "code",
      "metadata": {
        "id": "APermEOAtItC",
        "colab_type": "code",
        "colab": {}
      },
      "source": [
        "!rm -d -r \"/content/ParallelWaveGAN/egs/ljspeech/voc1/train_nodev_ljspeech_parallel_wavegan.v1\""
      ],
      "execution_count": 0,
      "outputs": []
    },
    {
      "cell_type": "code",
      "metadata": {
        "id": "MDjeXiUo3tRa",
        "colab_type": "code",
        "colab": {}
      },
      "source": [
        ""
      ],
      "execution_count": 0,
      "outputs": []
    }
  ]
}